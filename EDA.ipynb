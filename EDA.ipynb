{
 "cells": [
  {
   "cell_type": "code",
   "execution_count": 2,
   "outputs": [],
   "source": [
    "import pandas as pd\n",
    "import numpy as np\n",
    "import matplotlib.pyplot as plt\n",
    "import seaborn as sns"
   ],
   "metadata": {
    "collapsed": false,
    "pycharm": {
     "name": "#%%\n"
    }
   }
  },
  {
   "cell_type": "code",
   "execution_count": 3,
   "outputs": [],
   "source": [
    "df = pd.read_csv('./fraude_tc.csv',\n",
    "    dtype={\n",
    "        'repeat_retailer':int,\n",
    "        'used_chip':int,\n",
    "        'used_pin_number':int,\n",
    "        'online_order':int,\n",
    "        'fraud':int\n",
    "    }\n",
    ")"
   ],
   "metadata": {
    "collapsed": false,
    "pycharm": {
     "name": "#%%\n"
    }
   }
  },
  {
   "cell_type": "code",
   "execution_count": 4,
   "outputs": [
    {
     "data": {
      "text/plain": "   distance_from_home  distance_from_last_transaction  \\\n0           57.877857                        0.311140   \n1           10.829943                        0.175592   \n2            5.091079                        0.805153   \n3            2.247564                        5.600044   \n4           44.190936                        0.566486   \n\n   ratio_to_median_purchase_price  repeat_retailer  used_chip  \\\n0                        1.945940                1          1   \n1                        1.294219                1          0   \n2                        0.427715                1          0   \n3                        0.362663                1          1   \n4                        2.222767                1          1   \n\n   used_pin_number  online_order  fraud  \n0                0             0      0  \n1                0             0      0  \n2                0             1      0  \n3                0             1      0  \n4                0             1      0  ",
      "text/html": "<div>\n<style scoped>\n    .dataframe tbody tr th:only-of-type {\n        vertical-align: middle;\n    }\n\n    .dataframe tbody tr th {\n        vertical-align: top;\n    }\n\n    .dataframe thead th {\n        text-align: right;\n    }\n</style>\n<table border=\"1\" class=\"dataframe\">\n  <thead>\n    <tr style=\"text-align: right;\">\n      <th></th>\n      <th>distance_from_home</th>\n      <th>distance_from_last_transaction</th>\n      <th>ratio_to_median_purchase_price</th>\n      <th>repeat_retailer</th>\n      <th>used_chip</th>\n      <th>used_pin_number</th>\n      <th>online_order</th>\n      <th>fraud</th>\n    </tr>\n  </thead>\n  <tbody>\n    <tr>\n      <th>0</th>\n      <td>57.877857</td>\n      <td>0.311140</td>\n      <td>1.945940</td>\n      <td>1</td>\n      <td>1</td>\n      <td>0</td>\n      <td>0</td>\n      <td>0</td>\n    </tr>\n    <tr>\n      <th>1</th>\n      <td>10.829943</td>\n      <td>0.175592</td>\n      <td>1.294219</td>\n      <td>1</td>\n      <td>0</td>\n      <td>0</td>\n      <td>0</td>\n      <td>0</td>\n    </tr>\n    <tr>\n      <th>2</th>\n      <td>5.091079</td>\n      <td>0.805153</td>\n      <td>0.427715</td>\n      <td>1</td>\n      <td>0</td>\n      <td>0</td>\n      <td>1</td>\n      <td>0</td>\n    </tr>\n    <tr>\n      <th>3</th>\n      <td>2.247564</td>\n      <td>5.600044</td>\n      <td>0.362663</td>\n      <td>1</td>\n      <td>1</td>\n      <td>0</td>\n      <td>1</td>\n      <td>0</td>\n    </tr>\n    <tr>\n      <th>4</th>\n      <td>44.190936</td>\n      <td>0.566486</td>\n      <td>2.222767</td>\n      <td>1</td>\n      <td>1</td>\n      <td>0</td>\n      <td>1</td>\n      <td>0</td>\n    </tr>\n  </tbody>\n</table>\n</div>"
     },
     "execution_count": 4,
     "metadata": {},
     "output_type": "execute_result"
    }
   ],
   "source": [
    "df.head()"
   ],
   "metadata": {
    "collapsed": false,
    "pycharm": {
     "name": "#%%\n"
    }
   }
  },
  {
   "cell_type": "code",
   "execution_count": 5,
   "outputs": [
    {
     "data": {
      "text/plain": "(1000000, 8)"
     },
     "execution_count": 5,
     "metadata": {},
     "output_type": "execute_result"
    }
   ],
   "source": [
    "df.shape"
   ],
   "metadata": {
    "collapsed": false,
    "pycharm": {
     "name": "#%%\n"
    }
   }
  },
  {
   "cell_type": "code",
   "execution_count": 6,
   "outputs": [
    {
     "name": "stdout",
     "output_type": "stream",
     "text": [
      "<class 'pandas.core.frame.DataFrame'>\n",
      "RangeIndex: 1000000 entries, 0 to 999999\n",
      "Data columns (total 8 columns):\n",
      " #   Column                          Non-Null Count    Dtype  \n",
      "---  ------                          --------------    -----  \n",
      " 0   distance_from_home              1000000 non-null  float64\n",
      " 1   distance_from_last_transaction  1000000 non-null  float64\n",
      " 2   ratio_to_median_purchase_price  1000000 non-null  float64\n",
      " 3   repeat_retailer                 1000000 non-null  int32  \n",
      " 4   used_chip                       1000000 non-null  int32  \n",
      " 5   used_pin_number                 1000000 non-null  int32  \n",
      " 6   online_order                    1000000 non-null  int32  \n",
      " 7   fraud                           1000000 non-null  int32  \n",
      "dtypes: float64(3), int32(5)\n",
      "memory usage: 42.0 MB\n"
     ]
    }
   ],
   "source": [
    "df.info()"
   ],
   "metadata": {
    "collapsed": false,
    "pycharm": {
     "name": "#%%\n"
    }
   }
  },
  {
   "cell_type": "code",
   "execution_count": 7,
   "outputs": [
    {
     "data": {
      "text/plain": "<Figure size 432x288 with 1 Axes>",
      "image/png": "[encoded data removed]"
     },
     "metadata": {},
     "output_type": "display_data"
    }
   ],
   "source": [
    "fraud = df.fraud.sum()\n",
    "no_fraud = df.shape[0] - fraud\n",
    "data = [fraud, no_fraud]\n",
    "my_labels = ['Fraud.', 'Normal.']\n",
    "plt.pie(data,labels=my_labels,autopct='%1.1f%%', explode=(0, 0.2))\n",
    "plt.title('Number of fraudulent transactions.')\n",
    "plt.legend()\n",
    "plt.axis('equal')\n",
    "plt.show()"
   ],
   "metadata": {
    "collapsed": false,
    "pycharm": {
     "name": "#%%\n"
    }
   }
  },
  {
   "cell_type": "code",
   "execution_count": 8,
   "outputs": [],
   "source": [
    "def calculate_3_sigmas(serie, only_positive=True):\n",
    "    \"\"\"\n",
    "    Aplica la regla de las 3 sigmas a una Serie para obtener el rango en el que un valor no es considerado como outlier.\n",
    "    :param serie: Serie a evaluar.\n",
    "    :param only_positive: Define si el rango debe aceptar valores negativos o no.\n",
    "    :return: Una tupla con los valores mínimo y máximo del rango.\n",
    "    \"\"\"\n",
    "    min_val = serie.mean() - (3 * serie.std())\n",
    "    max_val = serie.mean() + (3 * serie.std())\n",
    "    if only_positive and min_val < 0:\n",
    "        min_val = 0\n",
    "    return min_val, max_val"
   ],
   "metadata": {
    "collapsed": false,
    "pycharm": {
     "name": "#%%\n"
    }
   }
  },
  {
   "cell_type": "code",
   "execution_count": 9,
   "outputs": [
    {
     "data": {
      "text/plain": "<Figure size 432x288 with 1 Axes>",
      "image/png": "[encoded data removed]"
     },
     "metadata": {},
     "output_type": "display_data"
    }
   ],
   "source": [
    "range_dist_home = calculate_3_sigmas(df.distance_from_home)\n",
    "sns.histplot(data=df, x='distance_from_home', binrange=range_dist_home, bins=20)\n",
    "plt.show()"
   ],
   "metadata": {
    "collapsed": false,
    "pycharm": {
     "name": "#%%\n"
    }
   }
  },
  {
   "cell_type": "code",
   "execution_count": 10,
   "outputs": [
    {
     "data": {
      "text/plain": "13324"
     },
     "execution_count": 10,
     "metadata": {},
     "output_type": "execute_result"
    }
   ],
   "source": [
    "df.distance_from_home[df.distance_from_home > range_dist_home[1]].count()"
   ],
   "metadata": {
    "collapsed": false,
    "pycharm": {
     "name": "#%%\n"
    }
   }
  },
  {
   "cell_type": "code",
   "execution_count": 11,
   "outputs": [
    {
     "data": {
      "text/plain": "5894"
     },
     "execution_count": 11,
     "metadata": {},
     "output_type": "execute_result"
    }
   ],
   "source": [
    "df.distance_from_home[(df.distance_from_home > range_dist_home[1]) & (df.fraud == 1)].count()"
   ],
   "metadata": {
    "collapsed": false,
    "pycharm": {
     "name": "#%%\n"
    }
   }
  },
  {
   "cell_type": "code",
   "execution_count": 12,
   "outputs": [
    {
     "data": {
      "text/plain": "<Figure size 432x288 with 1 Axes>",
      "image/png": "[encoded data removed]"
     },
     "metadata": {},
     "output_type": "display_data"
    }
   ],
   "source": [
    "range_dist_last_trans = calculate_3_sigmas(df.distance_from_last_transaction)\n",
    "sns.histplot(data=df, x='distance_from_last_transaction', binrange=range_dist_last_trans, bins=10)\n",
    "plt.show()"
   ],
   "metadata": {
    "collapsed": false,
    "pycharm": {
     "name": "#%%\n"
    }
   }
  },
  {
   "cell_type": "code",
   "execution_count": 13,
   "outputs": [
    {
     "data": {
      "text/plain": "7099"
     },
     "execution_count": 13,
     "metadata": {},
     "output_type": "execute_result"
    }
   ],
   "source": [
    "df.distance_from_last_transaction[df.distance_from_last_transaction > range_dist_last_trans[1]].count()"
   ],
   "metadata": {
    "collapsed": false,
    "pycharm": {
     "name": "#%%\n"
    }
   }
  },
  {
   "cell_type": "code",
   "execution_count": 14,
   "outputs": [
    {
     "data": {
      "text/plain": "3436"
     },
     "execution_count": 14,
     "metadata": {},
     "output_type": "execute_result"
    }
   ],
   "source": [
    "df.distance_from_last_transaction[(df.distance_from_last_transaction > range_dist_last_trans[1]) & (df.fraud == 1)].count()"
   ],
   "metadata": {
    "collapsed": false,
    "pycharm": {
     "name": "#%%\n"
    }
   }
  },
  {
   "cell_type": "code",
   "execution_count": 15,
   "outputs": [
    {
     "data": {
      "text/plain": "<Figure size 432x288 with 1 Axes>",
      "image/png": "[encoded data removed]"
     },
     "metadata": {},
     "output_type": "display_data"
    }
   ],
   "source": [
    "range_ratio_purchase = calculate_3_sigmas(df.ratio_to_median_purchase_price)\n",
    "sns.histplot(data=df, x='ratio_to_median_purchase_price', binrange=range_ratio_purchase, bins=10)\n",
    "plt.show()"
   ],
   "metadata": {
    "collapsed": false,
    "pycharm": {
     "name": "#%%\n"
    }
   }
  },
  {
   "cell_type": "code",
   "execution_count": 16,
   "outputs": [
    {
     "data": {
      "text/plain": "        distance_from_home  distance_from_last_transaction  \\\n0                57.877857                        0.311140   \n1                10.829943                        0.175592   \n2                 5.091079                        0.805153   \n3                 2.247564                        5.600044   \n4                44.190936                        0.566486   \n...                    ...                             ...   \n999995            2.207101                        0.112651   \n999996           19.872726                        2.683904   \n999997            2.914857                        1.472687   \n999998            4.258729                        0.242023   \n999999           58.108125                        0.318110   \n\n        ratio_to_median_purchase_price  repeat_retailer  used_chip  \\\n0                             1.945940                1          1   \n1                             1.294219                1          0   \n2                             0.427715                1          0   \n3                             0.362663                1          1   \n4                             2.222767                1          1   \n...                                ...              ...        ...   \n999995                        1.626798                1          1   \n999996                        2.778303                1          1   \n999997                        0.218075                1          1   \n999998                        0.475822                1          0   \n999999                        0.386920                1          1   \n\n        used_pin_number  online_order  fraud  \n0                     0             0      0  \n1                     0             0      0  \n2                     0             1      0  \n3                     0             1      0  \n4                     0             1      0  \n...                 ...           ...    ...  \n999995                0             0      0  \n999996                0             0      0  \n999997                0             1      0  \n999998                0             1      0  \n999999                0             1      0  \n\n[1000000 rows x 8 columns]",
      "text/html": "<div>\n<style scoped>\n    .dataframe tbody tr th:only-of-type {\n        vertical-align: middle;\n    }\n\n    .dataframe tbody tr th {\n        vertical-align: top;\n    }\n\n    .dataframe thead th {\n        text-align: right;\n    }\n</style>\n<table border=\"1\" class=\"dataframe\">\n  <thead>\n    <tr style=\"text-align: right;\">\n      <th></th>\n      <th>distance_from_home</th>\n      <th>distance_from_last_transaction</th>\n      <th>ratio_to_median_purchase_price</th>\n      <th>repeat_retailer</th>\n      <th>used_chip</th>\n      <th>used_pin_number</th>\n      <th>online_order</th>\n      <th>fraud</th>\n    </tr>\n  </thead>\n  <tbody>\n    <tr>\n      <th>0</th>\n      <td>57.877857</td>\n      <td>0.311140</td>\n      <td>1.945940</td>\n      <td>1</td>\n      <td>1</td>\n      <td>0</td>\n      <td>0</td>\n      <td>0</td>\n    </tr>\n    <tr>\n      <th>1</th>\n      <td>10.829943</td>\n      <td>0.175592</td>\n      <td>1.294219</td>\n      <td>1</td>\n      <td>0</td>\n      <td>0</td>\n      <td>0</td>\n      <td>0</td>\n    </tr>\n    <tr>\n      <th>2</th>\n      <td>5.091079</td>\n      <td>0.805153</td>\n      <td>0.427715</td>\n      <td>1</td>\n      <td>0</td>\n      <td>0</td>\n      <td>1</td>\n      <td>0</td>\n    </tr>\n    <tr>\n      <th>3</th>\n      <td>2.247564</td>\n      <td>5.600044</td>\n      <td>0.362663</td>\n      <td>1</td>\n      <td>1</td>\n      <td>0</td>\n      <td>1</td>\n      <td>0</td>\n    </tr>\n    <tr>\n      <th>4</th>\n      <td>44.190936</td>\n      <td>0.566486</td>\n      <td>2.222767</td>\n      <td>1</td>\n      <td>1</td>\n      <td>0</td>\n      <td>1</td>\n      <td>0</td>\n    </tr>\n    <tr>\n      <th>...</th>\n      <td>...</td>\n      <td>...</td>\n      <td>...</td>\n      <td>...</td>\n      <td>...</td>\n      <td>...</td>\n      <td>...</td>\n      <td>...</td>\n    </tr>\n    <tr>\n      <th>999995</th>\n      <td>2.207101</td>\n      <td>0.112651</td>\n      <td>1.626798</td>\n      <td>1</td>\n      <td>1</td>\n      <td>0</td>\n      <td>0</td>\n      <td>0</td>\n    </tr>\n    <tr>\n      <th>999996</th>\n      <td>19.872726</td>\n      <td>2.683904</td>\n      <td>2.778303</td>\n      <td>1</td>\n      <td>1</td>\n      <td>0</td>\n      <td>0</td>\n      <td>0</td>\n    </tr>\n    <tr>\n      <th>999997</th>\n      <td>2.914857</td>\n      <td>1.472687</td>\n      <td>0.218075</td>\n      <td>1</td>\n      <td>1</td>\n      <td>0</td>\n      <td>1</td>\n      <td>0</td>\n    </tr>\n    <tr>\n      <th>999998</th>\n      <td>4.258729</td>\n      <td>0.242023</td>\n      <td>0.475822</td>\n      <td>1</td>\n      <td>0</td>\n      <td>0</td>\n      <td>1</td>\n      <td>0</td>\n    </tr>\n    <tr>\n      <th>999999</th>\n      <td>58.108125</td>\n      <td>0.318110</td>\n      <td>0.386920</td>\n      <td>1</td>\n      <td>1</td>\n      <td>0</td>\n      <td>1</td>\n      <td>0</td>\n    </tr>\n  </tbody>\n</table>\n<p>1000000 rows × 8 columns</p>\n</div>"
     },
     "execution_count": 16,
     "metadata": {},
     "output_type": "execute_result"
    }
   ],
   "source": [
    "df"
   ],
   "metadata": {
    "collapsed": false,
    "pycharm": {
     "name": "#%%\n"
    }
   }
  },
  {
   "cell_type": "code",
   "execution_count": 21,
   "outputs": [
    {
     "data": {
      "text/plain": "<AxesSubplot:xlabel='ratio_to_median_purchase_price', ylabel='Count'>"
     },
     "execution_count": 21,
     "metadata": {},
     "output_type": "execute_result"
    },
    {
     "data": {
      "text/plain": "<Figure size 432x288 with 1 Axes>",
      "image/png": "[encoded data removed]"
     },
     "metadata": {},
     "output_type": "display_data"
    }
   ],
   "source": [
    "sns.histplot(data=df[df.fraud==1], x='ratio_to_median_purchase_price', binrange=range_ratio_purchase, bins=20)"
   ],
   "metadata": {
    "collapsed": false,
    "pycharm": {
     "name": "#%%\n"
    }
   }
  },
  {
   "cell_type": "code",
   "execution_count": null,
   "outputs": [],
   "source": [],
   "metadata": {
    "collapsed": false,
    "pycharm": {
     "name": "#%%\n"
    }
   }
  }
 ],
 "metadata": {
  "kernelspec": {
   "display_name": "Python 3",
   "language": "python",
   "name": "python3"
  },
  "language_info": {
   "codemirror_mode": {
    "name": "ipython",
    "version": 2
   },
   "file_extension": ".py",
   "mimetype": "text/x-python",
   "name": "python",
   "nbconvert_exporter": "python",
   "pygments_lexer": "ipython2",
   "version": "2.7.6"
  }
 },
 "nbformat": 4,
 "nbformat_minor": 0
}